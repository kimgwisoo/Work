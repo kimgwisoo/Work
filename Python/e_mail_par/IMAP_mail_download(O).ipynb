{
 "metadata": {
  "language_info": {
   "codemirror_mode": {
    "name": "ipython",
    "version": 3
   },
   "file_extension": ".py",
   "mimetype": "text/x-python",
   "name": "python",
   "nbconvert_exporter": "python",
   "pygments_lexer": "ipython3",
   "version": "3.7.6-final"
  },
  "orig_nbformat": 2,
  "kernelspec": {
   "name": "Python 3.7.6 64-bit ('base': conda)",
   "display_name": "Python 3.7.6 64-bit ('base': conda)",
   "metadata": {
    "interpreter": {
     "hash": "15bc54dd3cab612613c542227413ee8ecea986d8c5753dfe5a1a355e58ce028c"
    }
   }
  }
 },
 "nbformat": 4,
 "nbformat_minor": 2,
 "cells": [
  {
   "cell_type": "code",
   "execution_count": 3,
   "metadata": {},
   "outputs": [],
   "source": [
    "import os\n",
    "import email\n",
    "import imaplib\n",
    "import configparser\n",
    "import re"
   ]
  },
  {
   "cell_type": "code",
   "execution_count": 4,
   "metadata": {},
   "outputs": [],
   "source": [
    "def find_encoding_info(txt):\n",
    "    info = email.header.decode_header(txt)\n",
    "    s, encoding = info[0]\n",
    "    return s, encoding\n"
   ]
  },
  {
   "source": [
    "config = configparser.ConfigParser()\n",
    "config.read('D:\\개인\\Work\\config.ini')"
   ],
   "cell_type": "code",
   "metadata": {},
   "execution_count": 5,
   "outputs": [
    {
     "output_type": "execute_result",
     "data": {
      "text/plain": [
       "['D:\\\\개인\\\\Work\\\\config.ini']"
      ]
     },
     "metadata": {},
     "execution_count": 5
    }
   ]
  },
  {
   "cell_type": "code",
   "execution_count": 6,
   "metadata": {},
   "outputs": [],
   "source": [
    "imap_url = imaplib.IMAP4_SSL('imap.gmail.com')"
   ]
  },
  {
   "cell_type": "code",
   "execution_count": 7,
   "metadata": {},
   "outputs": [
    {
     "output_type": "execute_result",
     "data": {
      "text/plain": [
       "('OK', [b'kimgs243@gmail.com authenticated (Success)'])"
      ]
     },
     "metadata": {},
     "execution_count": 7
    }
   ],
   "source": [
    "imap_url.login(config['Gmail']['id'], config['Gmail']['pw'])"
   ]
  },
  {
   "cell_type": "code",
   "execution_count": 8,
   "metadata": {},
   "outputs": [
    {
     "output_type": "execute_result",
     "data": {
      "text/plain": [
       "('OK', [b'3'])"
      ]
     },
     "metadata": {},
     "execution_count": 8
    }
   ],
   "source": [
    "imap_url.select('INBOX')"
   ]
  },
  {
   "cell_type": "code",
   "execution_count": 10,
   "metadata": {},
   "outputs": [
    {
     "output_type": "execute_result",
     "data": {
      "text/plain": [
       "('OK',\n",
       " [b'(\\\\HasNoChildren) \"/\" \"INBOX\"',\n",
       "  b'(\\\\HasChildren \\\\Noselect) \"/\" \"[Gmail]\"',\n",
       "  b'(\\\\Flagged \\\\HasNoChildren) \"/\" \"[Gmail]/&vMTUXNO4ycDVaA-\"',\n",
       "  b'(\\\\HasNoChildren \\\\Sent) \"/\" \"[Gmail]/&vPSwuNO4ycDVaA-\"',\n",
       "  b'(\\\\HasNoChildren \\\\Junk) \"/\" \"[Gmail]/&wqTTONVo-\"',\n",
       "  b'(\\\\Drafts \\\\HasNoChildren) \"/\" \"[Gmail]/&x4TC3Lz0rQDVaA-\"',\n",
       "  b'(\\\\All \\\\HasNoChildren) \"/\" \"[Gmail]/&yATMtLz0rQDVaA-\"',\n",
       "  b'(\\\\HasNoChildren \\\\Important) \"/\" \"[Gmail]/&yRHGlA-\"',\n",
       "  b'(\\\\HasNoChildren \\\\Trash) \"/\" \"[Gmail]/&1zTJwNG1-\"',\n",
       "  b'(\\\\HasNoChildren) \"/\" \"&x4TC3A- &vPStANVo-\"'])"
      ]
     },
     "metadata": {},
     "execution_count": 10
    }
   ],
   "source": [
    "imap_url.list()"
   ]
  },
  {
   "cell_type": "code",
   "execution_count": 11,
   "metadata": {},
   "outputs": [],
   "source": [
    "result, data = imap_url.search(None, 'ALL')"
   ]
  },
  {
   "cell_type": "code",
   "execution_count": 19,
   "metadata": {},
   "outputs": [
    {
     "output_type": "execute_result",
     "data": {
      "text/plain": [
       "decoration: none; color: #757575; -webkit-text-=\\r\\nsize-adjust: none; -ms-text-size-adjust: none; font-weight: bold; margin: 0=\\r\\n; padding: 0;\">Spotify Podcasts</a></p>\\r\\n                  </td>\\r\\n                </tr>\\r\\n              </table>\\r\\n\\r\\n            </td>\\r\\n          </tr>\\r\\n          <tr style=3D\"border-collapse: collapse; margin: 0; padding: 0;\">\\r\\n            <td class=3D\"extra-links\" style=3D\"border-collapse: collapse; m=\\r\\nargin: 0; padding: 0;\">\\r\\n              <p style=3D\"font-family: helvetica, sans-serif; text-decorati=\\r\\non: none; color: #757575; -webkit-text-size-adjust: none; -ms-text-size-adj=\\r\\nust: none; font-weight: 300; display: inline; font-size: 15px; line-height:=\\r\\n 24px; margin: 0; padding: 0;\">\\r\\n                as well as on <a href=3D\"http://email.n.dribbble.com/c/eJxN=\\r\\njs1uhSAQhZ8GdxgcEGXBoklzX6PhZ_CSOmoA7_NXm7ZpMouT851Mvmijhgl0l21IcxpTmjmIELg=\\r\\nyANxIbfg8jkJPAg2aiSmx9bFk7_2Kfdipe1oTR9SoYgKfZqfFAGI0wjmvg1Npct1qn60dlck3Bo=\\r\\n_r9heWlgn7mulYMbja-kQ3k4-z0UdwdLi8bEy-gwDBB8FhYKBvRhjzSRdBcnn9Ket-loBX-fu5K=\\r\\n_Yz01JByct4uaffss3iC7fG_3bN_ou-7C7eNvULtINZrA\" style=3D\"font-family: helvet=\\r\\nica, sans-serif; text-decoration: underline; color: #757575; -webkit-text-s=\\r\\nize-adjust: none; -ms-text-size-adjust: none; margin: 0; padding: 0;\">Simpl=\\r\\necast</a>, <a href=3D\"http://email.n.dribbble.com/c/eJxNj0FuxCAMRU9DdkTGJAQ=\\r\\nWLCqN5hoVAZNBDckokDl_STWtKnlh-z9_fQcbFE6oumR91HGMUXME7_lgELmRynA9jqAmIENmYg=\\r\\nNsfTjSPM8r9X7P3cMKMwgjcKJZNy9BMIXoFaDw4BDV2K32UeuzMPnB8N5qf9HhXal9zG1K9dyoC=\\r\\nFAatVbSvIGaMjF5P2v-9C4_XVo2Jm8ICFwAR8FQXVqmkM7cFMoure9l2c_Dt-vbr1F32K-Ul4KD=\\r\\nbB8sF_oTvlp60Vb5H1ftv3Y-dheuoOUbuzBc0Q\" style=3D\"font-family: helvetica, sa=\\r\\nns-serif; text-decoration: underline; color: #757575; -webkit-text-size-adj=\\r\\nust: none; -ms-text-size-adjust: none; margin: 0; padding: 0;\">Overcast</a>=\\r\\n,\\r\\n                <a href=3D\"http://email.n.dribbble.com/c/eJxNj8GOhCAQRL8Gbx=\\r\\ngERD1w2GQzv7GBplGyogZw_P3Fyc5mkz5UXlUqXU47xQeumqDBj773fqScAVA5cU4noSY69j1TA=\\r\\n8MJp4FItrUuBWvtii3ssVn00KEdFPZTTYEAJUfrJTDfuW404GSz6qWUIxPxQfij3nVdbS6hwILp=\\r\\n7qjo2B2YXKp6l1e5PzGVEJH2RDzOEr_AxMOEeSPikzPOaMco7whXtxfRhTNWB6MJ6y_M-5kAK3x=\\r\\nXNUl_hzhnLkWdMt_R14qi8YlboX-5ov9Jm3bz-i__AJ94Yho\" style=3D\"font-family: hel=\\r\\nvetica, sans-serif; text-decoration: underline; color: #757575; -webkit-tex=\\r\\nt-size-adjust: none; -ms-text-size-adjust: none; margin: 0; padding: 0;\">St=\\r\\nitcher</a>, <a href=3D\"http://email.n.dribbble.com/c/eJxNjkGKxCAURE9jdgb9Rq=\\r\\nMLFw1NM7dojP4kMjEJavr8YzfDMFCLol4tXrBBwQiqi9bPepbzrCkw7-lgAKgRylAtJVMjQ4NmJ=\\r\\nAPb-5DjNE0b9v5I3WrNKAYPcmZaaA6DAMMD0zxIp-WEHLrNrrWehYgbgUfL6V1faivqa70T8bhq=\\r\\nenqXTheXnYg7MGCUMwqcgHqzhCFeqRFMLm6_Yzmu7LGNxwtzjQm7bL9jWkozaJbL-_oRrBZfuFf=\\r\\n696v2X53y4YJ3pZYf1gZS1A\" style=3D\"font-family: helvetica, sans-serif; text-=\\r\\ndecoration: underline; color: #757575; -webkit-text-size-adjust: none; -ms-=\\r\\ntext-size-adjust: none; margin: 0; padding: 0;\">Pocket Casts</a>,\\r\\n                <a href=3D\"http://email.n.dribbble.com/c/eJxNT8tuxCAQ-5rkxg=\\r\\nqGQMKBw6rVXts_qAgMWdSQRDz2-0vaVVtpDh7bY42ddhJGkH3Q1k9eeD8RoNaSQQEQxaUikxBUj=\\r\\nhQVqrEb6HZxKczzvOLF7rG_a8UN9VQAWikcouQz44Oz4C1jwgrXr_peypE7fu3g1qbUDcN2Xrfl=\\r\\n2J01ueQGr6lkQl7qWmpC8v4nvD0wlRCRHAwmKgHOHH6rJX5YEw8Tlq3jr0CBEkYJsA7kqUV0oca=\\r\\nmYDRhfZJ5r8liI_dnaJ_0Z4hLhoG3dstp_S5WND5wK-TXV_Q_OKfd_Pz3BXWFZ3E\" style=3D\"=\\r\\nfont-family: helvetica, sans-serif; text-decoration: underline; color: #757=\\r\\n575; -webkit-text-size-adjust: none; -ms-text-size-adjust: none; margin: 0;=\\r\\n padding: 0;\">TuneIn</a>, <a href=3D\"http://email.n.dribbble.com/c/eJxNT0Fu=\\r\\nxCAQew25ERFISDhwWKnaa59QATNkUQOsAlm1vy-poqrSHDy2Rx6DBslnLrugnV_85P1COXOOjop=\\r\\nzqoRUdJkmJmeGCtVMRpZ62IO1dsPe5dg9NAA4saBB9N7PI7IJGFhoRwtIb2236Uetz0LEjfB7G2=\\r\\ndKtfmr9_FcHiYl3Bp6f-FeQ0QaYFTDMDEi7i4fqe7fRLwdhXB51PjhTHyasKbGccYZHRjlw6VFh=\\r\\nHDEpmA0YbvIko_dYSPzFdDt-jPEtfBRtD7raf2tUjW-MFX656v6H7R7NnC-Xn4A8Dxj4g\" styl=\\r\\ne=3D\"font-family: helvetica, sans-serif; text-decoration: underline; color:=\\r\\n #757575; -webkit-text-size-adjust: none; -ms-text-size-adjust: none; margi=\\r\\nn: 0; padding: 0;\">Castbox</a>,\\r\\n                <a href=3D\"http://email.n.dribbble.com/c/eJxNjkFrxCAUhH-Nub=\\r\\nm8vEQTDx4Wyva4P6HoU7PSGIMxS_vvm5S2FOYwfDMM47STOKBsoqYwBhHCyBGIeK8Queqk4qMQI=\\r\\nAfwyquB9bBcXInW2tlfKKfmoYWVTnkTQIzDAO3Y22AkidBLAlJEzawfta4b664Mb4eKcTGvu50j=\\r\\nnRMHyU9fakyev37C_f7Butte0xuZtJo4Lax7QUDgLXBsGcozS97FPR2JTybOP3DLeyF_wN-9puj=\\r\\n3mKYN--54Pp3V79NV-6dfKv_rVf3P2pKNI7PV7QtuvlxW\" style=3D\"font-family: helvet=\\r\\nica, sans-serif; text-decoration: underline; color: #757575; -webkit-text-s=\\r\\nize-adjust: none; -ms-text-size-adjust: none; margin: 0; padding: 0;\">Radio=\\r\\nPublic</a> or via <a href=3D\"http://email.n.dribbble.com/c/eJxNj8GOhCAQRL8G=\\r\\nbxhsROXAYZLN_MamhdYhK2IA5_sHZzabTfpQ_arSqXbGDTDC0Hhjl2lRyzJxENbyXgNwLQfNJ6X=\\r\\nEMArSpEfWi711yc_zvFFrY2geBrWFDjVKgUgKRrRC96AmIqmdm7HZzKOUIzN5Y3Cvk3Jusw_HRh=\\r\\nZzua5UeER3bbnKTnXqE2PyfpbwbTEc6NedyS8QIHgnOHQMhssL5PwZqkMB_fYLczyTpQrjk1Lxg=\\r\\nZpkfnxYM_SyvrBe0Xf7YuhJe-F_uWL-yTlF_LR6AVrqXr4\" style=3D\"font-family: helve=\\r\\ntica, sans-serif; text-decoration: underline; color: #757575; -webkit-text-=\\r\\nsize-adjust: none; -ms-text-size-adjust: none; margin: 0; padding: 0;\">RSS<=\\r\\n/a>.\\r\\n              </p>\\r\\n            </td>\\r\\n          </tr>\\r\\n          <tr style=3D\"border-collapse: collapse; margin: 0; padding: 0;\">\\r\\n            <td height=3D\"56\" style=3D\"border-collapse: collapse; margin: 0=\\r\\n; padding: 0;\"></td>\\r\\n          </tr>\\r\\n        </table>\\r\\n\\r\\n\\r\\n      </center>\\r\\n    </td>\\r\\n  </tr>\\r\\n</table>\\r\\n\\r\\n    </td>\\r\\n  </tr>\\r\\n</table>\\r\\n\\r\\n\\r\\n<!--[if gte mso 9]><table width=3D\"600\" cellpadding=3D\"0\" cellspacing=3D\"0\"=\\r\\n><tr><td><![endif]-->\\r\\n<table class=3D\"container600\" cellpadding=3D\"0\" cellspacing=3D\"0\" border=3D=\\r\\n\"0\" width=3D\"100%\" style=3D\"width: calc(600px); border-collapse: collapse; =\\r\\nmargin: 0 auto; padding: 0;\">\\r\\n  <tr style=3D\"border-collapse: collapse; margin: 0; padding: 0;\">\\r\\n    <td width=3D\"100%\" style=3D\"border-collapse: collapse; margin: 0; paddi=\\r\\nng: 0;\">\\r\\n      <table width=3D\"100%\" cellpadding=3D\"0\" cellspacing=3D\"0\" border=3D\"0=\\r\\n\" style=3D\"min-width: 100%; border-collapse: collapse; margin: 0; padding: =\\r\\n0;\">\\r\\n        <tr style=3D\"border-collapse: collapse; margin: 0; padding: 0;\">\\r\\n          <td height=3D\"50\" style=3D\"border-collapse: collapse; margin: 0; =\\r\\npadding: 0;\">&nbsp;</td>\\r\\n        </tr>\\r\\n        <tr style=3D\"border-collapse: collapse; margin: 0; padding: 0;\">\\r\\n          <td width=3D\"100%\" style=3D\"min-width: 100%; border-collapse: col=\\r\\nlapse; margin: 0; padding: 0;\" class=3D\"content\">\\r\\n            <center>\\r\\n              <table class=3D\"container560 full-width\" cellpadding=3D\"0\" ce=\\r\\nllspacing=3D\"0\" border=3D\"0\" width=3D\"100%\" style=3D\"width: calc(560px); bo=\\r\\nrder-collapse: collapse; margin: 0 auto; padding: 0;\">\\r\\n                <tr style=3D\"border-collapse: collapse; margin: 0; padding:=\\r\\n 0;\">\\r\\n                  <td width=3D\"100%\" style=3D\"border-collapse: collapse; ma=\\r\\nrgin: 0; padding: 0;\">\\r\\n                    <table class=3D\"summary-list\" cellpadding=3D\"0\" cellspa=\\r\\ncing=3D\"0\" width=3D\"100%\" style=3D\"border-collapse: collapse; margin: 0; pa=\\r\\ndding: 0;\">\\r\\n    <tr style=3D\"border-collapse: collapse; margin: 0; padding: 0;\">\\r\\n      <td height=3D\"20\" style=3D\"border-collapse: collapse; margin: 0; padd=\\r\\ning: 0;\">&nbsp;</td>\\r\\n    </tr>\\r\\n    <tr style=3D\"border-collapse: collapse; margin: 0; padding: 0;\">\\r\\n      <td style=3D\"border-collapse: collapse; margin: 0; padding: 0;\">\\r\\n        <h3 class=3D\"list-title\" style=3D\"font-family: helvetica, sans-seri=\\r\\nf; text-decoration: none; color: #333; -webkit-text-size-adjust: none; -ms-=\\r\\ntext-size-adjust: none; font-size: 25px; margin: 0; padding: 0;\">\\r\\n          Other Happenings\\r\\n        </h3>\\r\\n      </td>\\r\\n    </tr>\\r\\n    <tr style=3D\"border-collapse: collapse; margin: 0; padding: 0;\">\\r\\n      <td height=3D\"15\" style=3D\"border-collapse: collapse; margin: 0; padd=\\r\\ning: 0;\">&nbsp;</td>\\r\\n    </tr>\\r\\n\\r\\n\\r\\n\\r\\n\\r\\n      <tr style=3D\"border-collapse: collapse; margin: 0; padding: 0;\">\\r\\n        <td height=3D\"15\" style=3D\"border-collapse: collapse; margin: 0; pa=\\r\\ndding: 0;\">&nbsp;</td>\\r\\n      </tr>\\r\\n      <tr style=3D\"border-collapse: collapse; margin: 0; padding: 0;\">\\r\\n  <td valign=3D\"top\" class=3D\"title-container\" style=3D\"border-collapse: co=\\r\\nllapse; margin: 0; padding: 0;\">\\r\\n    <h4 style=3D\"font-family: helvetica, sans-serif; text-decoration: none;=\\r\\n color: #333; -webkit-text-size-adjust: none; -ms-text-size-adjust: none; f=\\r\\nont-size: 20px; display: inline; margin: 0; padding: 0;\">=F0=9F=92=B8 Activ=\\r\\ne ideas for passive design income</h4>\\r\\n  </td>\\r\\n</tr>\\r\\n<tr style=3D\"border-collapse: collapse; margin: 0; padding: 0;\">\\r\\n  <td height=3D\"15\" style=3D\"border-collapse: collapse; margin: 0; padding:=\\r\\n 0;\">&nbsp;</td>\\r\\n</tr>\\r\\n\\r\\n<tr valign=3D\"top\" style=3D\"border-collapse: collapse; margin: 0; padding: =\\r\\n0;\">\\r\\n  <td style=3D\"border-collapse: collapse; margin: 0; padding: 0;\">\\r\\n    <div class=3D\"markdown-container\">\\r\\n      <p style=3D\"font-family: helvetica, sans-serif; text-decoration: none=\\r\\n; color: #333; -webkit-text-size-adjust: none; -ms-text-size-adjust: none; =\\r\\nfont-weight: 300; display: block; font-size: 15px; line-height: 24px; margi=\\r\\nn: 0em 0 1em; padding: 0;\">Listen, Dribbblers=E2=80=94it=E2=80=99s never a =\\r\\nbad idea to diversify your income sources, especially if you=E2=80=99re act=\\r\\nively looking to earn some extra cash. Right? Luckily, as designers there=\\r\\n=E2=80=99s a litany of avenues to explore when it comes to generating some =\\r\\npassive income. If you=E2=80=99re looking to bring home some extra bacon, o=\\r\\nver on our blog we explore <a href=3D\"http://email.n.dribbble.com/c/eJxNT9u=\\r\\nKxCAM_Zr2zUFjq_XBh4VlfmPxEjuytRa1_f61y7IMhOTkXALx2guQIMaoXVjCHMJCgDpHJgVAFB=\\r\\neKLPNMhaSoUMlhovvDl2it3fDhchpfGgO3OC_MMs6pl4oJZmhgwgQqZw503PSrtaMO_GOAZ6_3f=\\r\\nF9ryyVi7Qgo0D4o3Fj2dpha44Uk7t2KJORCPNa47lj6uefZ0pcz6TCdGfjnHSeMEmADiFtL6OOZ=\\r\\nuoLJxO2PrPksDjuZLywtJhyL_o5prTDx_t56W38_axov3Bv59zX9Bm3JxjtTW_0BnpFmmA\" sty=\\r\\nle=3D\"font-family: helvetica, sans-serif; text-decoration: underline; color=\\r\\n: #ea4c89; -webkit-text-size-adjust: none; -ms-text-size-adjust: none; marg=\\r\\nin: 0; padding: 0;\">5&nbsp;passive income strategies</a> that put your crea=\\r\\ntive skills to work. They include:</p>\\r\\n\\r\\n<ul>\\r\\n  <li>\\r\\n    <p style=3D\"font-family: helvetica, sans-serif; text-decoration: none; =\\r\\ncolor: #333; -webkit-text-size-adjust: none; -ms-text-size-adjust: none; fo=\\r\\nnt-weight: 300; display: block; font-size: 15px; line-height: 24px; margin:=\\r\\n 0em 0; padding: 0;\">=F0=9F=A7=B0=E2=80=82<strong style=3D\"font-weight: bol=\\r\\nd;\">1. Creating design templates</strong></p>\\r\\n  </li>\\r\\n  <li>\\r\\n    <p style=3D\"font-family: helvetica, sans-serif; text-decoration: none; =\\r\\ncolor: #333; -webkit-text-size-adjust: none; -ms-text-size-adjust: none; fo=\\r\\nnt-weight: 300; display: block; font-size: 15px; line-height: 24px; margin:=\\r\\n 0em 0; padding: 0;\">=F0=9F=91=95=E2=80=82<strong style=3D\"font-weight: bol=\\r\\nd;\">2. Starting a merch side-hustle</strong></p>\\r\\n  </li>\\r\\n  <li>\\r\\n    <p style=3D\"font-family: helvetica, sans-serif; text-decoration: none; =\\r\\ncolor: #333; -webkit-text-size-adjust: none; -ms-text-size-adjust: none; fo=\\r\\nnt-weight: 300; display: block; font-size: 15px; line-height: 24px; margin:=\\r\\n 0em 0; padding: 0;\">=F0=9F=A7=A0=E2=80=82<strong style=3D\"font-weight: bol=\\r\\nd;\">3. Sharing your design expertise</strong></p>\\r\\n  </li>\\r\\n  <li>\\r\\n    <p style=3D\"font-family: helvetica, sans-serif; text-decoration: none; =\\r\\ncolor: #333; -webkit-text-size-adjust: none; -ms-text-size-adjust: none; fo=\\r\\nnt-weight: 300; display: block; font-size: 15px; line-height: 24px; margin:=\\r\\n 0em 0; padding: 0;\">=F0=9F=9B=A0=EF=B8=8F=E2=80=82<strong style=3D\"font-we=\\r\\night: bold;\">4. Selling custom design tools</strong></p>\\r\\n  </li>\\r\\n  <li>\\r\\n    <p style=3D\"font-family: helvetica, sans-serif; text-decoration: none; =\\r\\ncolor: #333; -webkit-text-size-adjust: none; -ms-text-size-adjust: none; fo=\\r\\nnt-weight: 300; display: block; font-size: 15px; line-height: 24px; margin:=\\r\\n 0em 0; padding: 0;\">=F0=9F=93=BA=E2=80=82<strong style=3D\"font-weight: bol=\\r\\nd;\">5. Creating exclusive content</strong></p>\\r\\n  </li>\\r\\n</ul>\\r\\n\\r\\n<p style=3D\"font-family: helvetica, sans-serif; text-decoration: none; colo=\\r\\nr: #333; -webkit-text-size-adjust: none; -ms-text-size-adjust: none; font-w=\\r\\neight: 300; display: block; font-size: 15px; line-height: 24px; margin: 1em=\\r\\n 0 0em; padding: 0;\">Be sure to check out our <a href=3D\"http://email.n.dri=\\r\\nbbble.com/c/eJxNT9uKxCAM_Zr2zUFjq_XBh4VlfmPxEjuytRa1_f61y7IMhOTkXALx2guQIMa=\\r\\noXVjCHMJCgDpHJgVAFBeKLPNMhaSoUMlhovvDl2it3fDhchpfGgO3OC_MMs6pl4oJZmhgwgQqZw=\\r\\n503PSrtaMO_GOAZ6_3fF9ryyVi7Qgo0D4o3Fj2dpha44Uk7t2KJORCPNa47lj6uefZ0pcz6TCdG=\\r\\nfjnHSeMEmADiFtL6OOZuoLJxO2PrPksDjuZLywtJhyL_o5prTDx_t56W38_axov3Bv59zX9Bm3J=\\r\\nxjtTW_0BnpFmmA\" style=3D\"font-family: helvetica, sans-serif; text-decoratio=\\r\\nn: underline; color: #ea4c89; -webkit-text-size-adjust: none; -ms-text-size=\\r\\n-adjust: none; margin: 0; padding: 0;\">complete blog post</a> to learn how =\\r\\nto navigate each of these potential revenue streams and how to start workin=\\r\\ng smarter=E2=80=94not harder=E2=80=94to bring in some extra cash. Just reme=\\r\\nmber, it=E2=80=99ll take some experimenting to see what catches on and succ=\\r\\nessfully sells, so don=E2=80=99t get discouraged. <a href=3D\"http://email.n=\\r\\n=2Edribbble.com/c/eJxNT9uKxCAM_Zr2zUFjq_X=\\r\\nBh4VlfmPxEjuytRa1_f61y7IMhOTkXALx2gu=\\r\\nQIMaoXVjCHMJCgDpHJgVAFBeKLPNMhaSoUMlhovvDl2it3fDhchpfGgO3OC_MMs6pl4oJZmhgwg=\\r\\nQqZw503PSrtaMO_GOAZ6_3fF9ryyVi7Qgo0D4o3Fj2dpha44Uk7t2KJORCPNa47lj6uefZ0pcz6=\\r\\nTCdGfjnHSeMEmADiFtL6OOZuoLJxO2PrPksDjuZLywtJhyL_o5prTDx_t56W38_axov3Bv59zX9=\\r\\nBm3JxjtTW_0BnpFmmA\" style=3D\"font-family: helvetica, sans-serif; text-decor=\\r\\nation: underline; color: #ea4c89; -webkit-text-size-adjust: none; -ms-text-=\\r\\nsize-adjust: none; margin: 0; padding: 0;\">Passive income is a long game</a=\\r\\n>, so start small and figure out how to best put all of your creative skill=\\r\\ns to work! <span style=3D\"color: #ea4c89; font-family: helvetica, sans-seri=\\r\\nf; text-decoration: none; -webkit-text-size-adjust: none; -ms-text-size-adj=\\r\\nust: none; margin: 0; padding: 0;\">=E2=96=A0</span></p>\\r\\n    </div>\\r\\n  </td>\\r\\n</tr>\\r\\n\\r\\n\\r\\n        <tr style=3D\"border-collapse: collapse; margin: 0; padding: 0;\">\\r\\n          <td height=3D\"20\" style=3D\"border-collapse: collapse; margin: 0; =\\r\\npadding: 0;\"></td>\\r\\n        </tr>\\r\\n\\r\\n\\r\\n</table>\\r\\n\\r\\n                    <table id=3D\"footer-container\" cellpadding=3D\"0\" cellsp=\\r\\nacing=3D\"0\" style=3D\"border-collapse: collapse; -webkit-text-size-adjust: n=\\r\\none; -ms-text-size-adjust: none; font-size: 13px; font-family: helvetica, s=\\r\\nans-serif; line-height: 30px; mso-table-lspace: 0pt; mso-table-rspace: 0pt;=\\r\\n border-spacing: 0px; width: 100%; margin: 0; padding: 0;\">\\r\\n  <tr style=3D\"border-collapse: collapse; margin: 0; padding: 0;\">\\r\\n    <td height=3D\"78\" style=3D\"border-collapse: collapse; margin: 0; paddin=\\r\\ng: 0;\">&nbsp;</td>\\r\\n  </tr>\\r\\n  <tr style=3D\"border-collapse: collapse; margin: 0; padding: 0;\">\\r\\n    <td align=3D\"center\" style=3D\"border-collapse: collapse; margin: 0; pad=\\r\\nding: 0;\">\\r\\n      <p style=3D\"font-family: helvetica, sans-serif; text-decoration: none=\\r\\n; color: #999999; -webkit-text-size-adjust: none; -ms-text-size-adjust: non=\\r\\ne; font-weight: 300; display: inline; font-size: 15px; line-height: 24px; m=\\r\\nargin: 0; padding: 0;\">\\r\\n          You elected to receive these emails.\\r\\n  <br>\\r\\n  No longer interested?\\r\\n  <a href=3D\"http://email.n.dribbble.com/c/eJxVUNtuwyAM_ZrkjQrMLTzkYdLUfcYE=\\r\\nxrSoJakC6fePdtXUSZZ8OT4-tuMcDVgwY54xTUmnNDHgiEw5AOakcWzSmhvLyZGzg-LLIW45hHC=\\r\\nlA65lPM-oJ64ShuhNdAQSnI8OPSStuOvReJ3Prd3qID8GOHZ75_f0i-reut-XuoeKHaRBHulOSx=\\r\\nvk53qnreVCA5i2XmjppcS1cIkCBUXoJuHR6aCSSEIa76XlRkohjOJxIqtsUsn2laKXCCiIdB-1t=\\r\\n_KN69J-Nf4rPzFfbj6fHmrAgTPBGYgXr1DMe-kIFZ-vr2Jd9w3pbd9xmy-5nCoo2Z92erQ-_9Xm=\\r\\n52Xsr6_Nb2HYVh_R11Z_AC8Eg3k\" style=3D\"font-family: helvetica, sans-serif; t=\\r\\next-decoration: underline; color: #999; -webkit-text-size-adjust: none; -ms=\\r\\n-text-size-adjust: none; font-size: 13px; margin: 0; padding: 0;\">Unsubscri=\\r\\nbe</a>\\r\\n  or <a href=3D\"http://email.n.dribbble.com/c/eJxNjsFuwyAQRL_GvhGt1wabA4dKV=\\r\\nX6jggUcVAORvc73l0RRFWkPszNvpPHGK5xR9clQXKKMcREIRGLSiEKPSotFSlAzBB303E1QLn5P=\\r\\nzrktXKjm_mbIg1VEk4zLYB3QqAbQMsxuRueshH4zN-b70Y1fHV7bffbba4nqWbipUjnFRJZTLQ2=\\r\\n_npx_yOa7TWvpxm8EBDGAwKFD9cxy8OnMLQnZpu1tHvXcKTSzPsLOKYd-N78prwdOY5u_PtHXcj=\\r\\nbhEQqLf47Nh3R7tZ7swccfUkheRQ\" style=3D\"font-family: helvetica, sans-serif; =\\r\\ntext-decoration: underline; color: #999; -webkit-text-size-adjust: none; -m=\\r\\ns-text-size-adjust: none; font-size: 13px; margin: 0; padding: 0;\">manage y=\\r\\nour subscriptions</a>.\\r\\n\\r\\n      </p>\\r\\n    </td>\\r\\n  </tr>\\r\\n  <tr style=3D\"border-collapse: collapse; margin: 0; padding: 0;\">\\r\\n    <td align=3D\"center\" style=3D\"border-collapse: collapse; margin: 0; pad=\\r\\nding: 0;\">\\r\\n      <p style=3D\"font-family: helvetica, sans-serif; text-decoration: none=\\r\\n; color: #999999; -webkit-text-size-adjust: none; -ms-text-size-adjust: non=\\r\\ne; font-weight: 300; display: inline; font-size: 15px; line-height: 24px; m=\\r\\nargin: 0; padding: 0;\">\\r\\n        Dribbble Holdings Ltd.  <a target=3D\"_blank\" class=3D\"address\" href=\\r\\n=3D\"http://email.n.dribbble.com/c/eJxNUU1PwzAM_TXdrVXifB96YKBdOCKBOCE3H13Es=\\r\\nk5txhC_HncDhGTZ8fOLX-yEPmgwoDe598kmlZJtgXnfSgfQOqFda5Vi2rDoojONZMcuzHkYhkPs=\\r\\n_FQ2-15FhMBY0NIEHpLHAUEljEYCN8hxc-j3tZ6WRtw1sCO7XC7dOE3jrQMBBakKu9MBfaSoQDa=\\r\\nwfcUaCd0-1QbuKT5nX6c54y3bXiH7Qp4_2ht2j0cMuGpIJm0nQTstgWotB9EJw7XVjlJuvogUsG=\\r\\nIjHhrgonDycrj6oq4IvYDzhX0qaZORbhCMDDynIdgn0sAweMd8kklpQVxbYL0XfnWZWZuFm7J2t=\\r\\nE3XiN25ljeP5YR5PJI2MGAtZy2Qsl5rJYZ8LlSJBfPhB1ym80x7EQ_TR5xrLnEz9--5jAtIQZOO=\\r\\nK_X6FbWPH_FY2z9e7f8dh3nC4HGpyzeho5Am\" style=3D\"font-family: helvetica, sans=\\r\\n-serif; text-decoration: none; color: #3a8bbb; -webkit-text-size-adjust: no=\\r\\nne; -ms-text-size-adjust: none; font-size: 13px; margin: 0; padding: 0;\"> =\\r\\n=E2=80=A2 524 Yates St.  =E2=80=A2  Victoria, BC V8W1K8, Canada</a>\\r\\n      </p>\\r\\n    </td>\\r\\n  </tr>\\r\\n  <tr style=3D\"border-collapse: collapse; margin: 0; padding: 0;\">\\r\\n    <td height=3D\"29\" style=3D\"border-collapse: collapse; margin: 0; paddin=\\r\\ng: 0;\">&nbsp;</td>\\r\\n  </tr>\\r\\n  <tr style=3D\"border-collapse: collapse; margin: 0; padding: 0;\">\\r\\n    <td id=3D\"logo-basketball\" align=3D\"center\" width=3D\"50\" height=3D\"50\" =\\r\\nstyle=3D\"border-collapse: collapse; margin: 0; padding: 0;\">\\r\\n      <img src=3D\"https://cdn.dribbble.com/uploads/3414/original/65c9950f5f=\\r\\neef175ae1e508b66be0f69.jpg?1571861506\" alt=3D\"hero-image\" width=3D\"50\" heig=\\r\\nht=3D\"50\" style=3D\"-ms-interpolation-mode: bicubic;\">\\r\\n    </td>\\r\\n  </tr>\\r\\n  <tr style=3D\"border-collapse: collapse; margin: 0; padding: 0;\">\\r\\n    <td height=3D\"60px\" style=3D\"border-collapse: collapse; margin: 0; padd=\\r\\ning: 0;\">&nbsp;</td>\\r\\n  </tr>\\r\\n</table>\\r\\n\\r\\n                  </td>\\r\\n                </tr>\\r\\n              </table>\\r\\n            </center>\\r\\n          </td>\\r\\n        </tr>\\r\\n      </table>\\r\\n    </td>\\r\\n  </tr>\\r\\n</table>\\r\\n<!--[if gte mso 9]></td></tr></table><![endif]-->\\r\\n\\r\\n</center>\\r\\n<img width=3D\"1px\" height=3D\"1px\" alt=3D\"\" src=3D\"http://email.n.dribbble.c=\\r\\nom/o/eJxNy00OgyAQQOHT1B2GjvwuOMwMw1hS0QSJ59d01d3LSz5O7MCDm2rKEsSKBAU6Z2UigI=\\r\\nqLiypYq53XJZboX0bvM_dKRFuZ89GmT2IUIut9iIaRxQTIspCzFt6OEe3U07e29QSzPHxtWLefH=\\r\\nKlcZR_quEoftZVn_CX1AznjOc4bDaAzJQ\"></body>\\r\\n\\r\\n</html>\\r\\n'),\n",
       " b' FLAGS (\\\\Seen))']"
      ]
     },
     "metadata": {},
     "execution_count": 19
    }
   ],
   "source": [
    "data"
   ]
  },
  {
   "cell_type": "code",
   "execution_count": 22,
   "metadata": {},
   "outputs": [
    {
     "output_type": "error",
     "ename": "AttributeError",
     "evalue": "'tuple' object has no attribute 'split'",
     "traceback": [
      "\u001b[1;31m---------------------------------------------------------------------------\u001b[0m",
      "\u001b[1;31mAttributeError\u001b[0m                            Traceback (most recent call last)",
      "\u001b[1;32m<ipython-input-22-974f71265aa4>\u001b[0m in \u001b[0;36m<module>\u001b[1;34m\u001b[0m\n\u001b[1;32m----> 1\u001b[1;33m \u001b[0mall_email\u001b[0m \u001b[1;33m=\u001b[0m \u001b[0mdata\u001b[0m\u001b[1;33m[\u001b[0m\u001b[1;36m0\u001b[0m\u001b[1;33m]\u001b[0m\u001b[1;33m.\u001b[0m\u001b[0msplit\u001b[0m\u001b[1;33m(\u001b[0m\u001b[1;33m)\u001b[0m\u001b[1;33m\u001b[0m\u001b[1;33m\u001b[0m\u001b[0m\n\u001b[0m\u001b[0;32m      2\u001b[0m \u001b[0mprint\u001b[0m\u001b[1;33m(\u001b[0m\u001b[0mall_email\u001b[0m\u001b[1;33m)\u001b[0m\u001b[1;33m\u001b[0m\u001b[1;33m\u001b[0m\u001b[0m\n",
      "\u001b[1;31mAttributeError\u001b[0m: 'tuple' object has no attribute 'split'"
     ]
    }
   ],
   "source": [
    "all_email = data[0].split()\n",
    "print(all_email)"
   ]
  },
  {
   "cell_type": "code",
   "execution_count": 24,
   "metadata": {},
   "outputs": [],
   "source": [
    "raw_email = data[0][1]"
   ]
  },
  {
   "cell_type": "code",
   "execution_count": 25,
   "metadata": {},
   "outputs": [],
   "source": [
    "raw_email_string = raw_email.decode('UTF-8')"
   ]
  },
  {
   "cell_type": "code",
   "execution_count": 27,
   "metadata": {},
   "outputs": [],
   "source": [
    "email_message = email.message_from_string(raw_email_string)"
   ]
  },
  {
   "cell_type": "code",
   "execution_count": 31,
   "metadata": {},
   "outputs": [
    {
     "output_type": "execute_result",
     "data": {
      "text/plain": [
       "'=?utf-8?q?=F0=9F=8E=A7_Design_Like_a_Kid?='"
      ]
     },
     "metadata": {},
     "execution_count": 31
    }
   ],
   "source": [
    "email_message['Subject']"
   ]
  },
  {
   "cell_type": "code",
   "execution_count": 15,
   "metadata": {},
   "outputs": [
    {
     "output_type": "stream",
     "name": "stdout",
     "text": [
      "From:  GwiSoo Kim <kgs243@outlook.com>\n",
      "Sender:  None\n",
      "To:  GwiSoo Kim <kimgs243@gmail.com>\n",
      "Date:  Tue, 20 Oct 2020 08:00:54 +0000\n",
      "Subject FW: Atachfile's\n",
      "[Message]\n",
      "From:  \"Medium Daily Digest\" <noreply@medium.com>\n",
      "Sender:  None\n",
      "To:  kimgs243@gmail.com\n",
      "Date:  Wed, 21 Oct 2020 08:40:00 +0000 (UTC)\n",
      "Subject Burn Fat in Your Sleep, Start Tonight | Tim Rees\n",
      "[Message]\n",
      "From:  Dribbble <no-reply@n.dribbble.com>\n",
      "Sender:  no-reply@n.dribbble.com\n",
      "To:  '' <kimgs243@gmail.com>\n",
      "Date:  Wed, 21 Oct 2020 13:42:59 +0000\n",
      "Subject b'\\xf0\\x9f\\x8e\\xa7 Design Like a Kid'\n",
      "[Message]\n"
     ]
    }
   ],
   "source": [
    "for mail in all_email:\n",
    "    result, data = imap_url.fetch(mail, '(RFC822)')\n",
    "    raw_email = data[0][1]\n",
    "    raw_email_string = raw_email.decode('UTF-8')\n",
    "    email_message = email.message_from_string(raw_email_string)\n",
    "\n",
    "    # 메일 정보\n",
    "    print('From: ', email_message['From'])\n",
    "    print('Sender: ', email_message['Sender'])\n",
    "    print('To: ', email_message['To'])\n",
    "    print('Date: ', email_message['Date'])\n",
    "\n",
    "    subject, encode = find_encoding_info(\n",
    "        email_message['Subject'])\n",
    "    print('Subject', subject)\n",
    "\n",
    "    message = ''\n",
    "\n",
    "    print('[Message]')"
   ]
  },
  {
   "cell_type": "code",
   "execution_count": 1,
   "metadata": {},
   "outputs": [
    {
     "output_type": "error",
     "ename": "NameError",
     "evalue": "name 'email_message' is not defined",
     "traceback": [
      "\u001b[1;31m---------------------------------------------------------------------------\u001b[0m",
      "\u001b[1;31mNameError\u001b[0m                                 Traceback (most recent call last)",
      "\u001b[1;32m<ipython-input-1-c9e8fadf9b1a>\u001b[0m in \u001b[0;36m<module>\u001b[1;34m\u001b[0m\n\u001b[1;32m----> 1\u001b[1;33m \u001b[1;32mif\u001b[0m \u001b[0memail_message\u001b[0m\u001b[1;33m.\u001b[0m\u001b[0mis_multipart\u001b[0m\u001b[1;33m(\u001b[0m\u001b[1;33m)\u001b[0m\u001b[1;33m:\u001b[0m\u001b[1;33m\u001b[0m\u001b[1;33m\u001b[0m\u001b[0m\n\u001b[0m\u001b[0;32m      2\u001b[0m     \u001b[1;32mfor\u001b[0m \u001b[0mpart\u001b[0m \u001b[1;32min\u001b[0m \u001b[0memail_message\u001b[0m\u001b[1;33m.\u001b[0m\u001b[0mget_payload\u001b[0m\u001b[1;33m(\u001b[0m\u001b[1;33m)\u001b[0m\u001b[1;33m:\u001b[0m\u001b[1;33m\u001b[0m\u001b[1;33m\u001b[0m\u001b[0m\n\u001b[0;32m      3\u001b[0m         \u001b[1;32mif\u001b[0m \u001b[0mpart\u001b[0m\u001b[1;33m.\u001b[0m\u001b[0mget_content_type\u001b[0m\u001b[1;33m(\u001b[0m\u001b[1;33m)\u001b[0m \u001b[1;33m==\u001b[0m \u001b[1;34m'text/plain'\u001b[0m\u001b[1;33m:\u001b[0m\u001b[1;33m\u001b[0m\u001b[1;33m\u001b[0m\u001b[0m\n\u001b[0;32m      4\u001b[0m             \u001b[0mbytes\u001b[0m \u001b[1;33m=\u001b[0m \u001b[0mpart\u001b[0m\u001b[1;33m.\u001b[0m\u001b[0mget_payload\u001b[0m\u001b[1;33m(\u001b[0m\u001b[0mdecode\u001b[0m\u001b[1;33m=\u001b[0m\u001b[1;32mTrue\u001b[0m\u001b[1;33m)\u001b[0m\u001b[1;33m\u001b[0m\u001b[1;33m\u001b[0m\u001b[0m\n\u001b[0;32m      5\u001b[0m             \u001b[0mencode\u001b[0m \u001b[1;33m=\u001b[0m \u001b[0mpart\u001b[0m\u001b[1;33m.\u001b[0m\u001b[0mget_content_charset\u001b[0m\u001b[1;33m(\u001b[0m\u001b[1;33m)\u001b[0m\u001b[1;33m\u001b[0m\u001b[1;33m\u001b[0m\u001b[0m\n",
      "\u001b[1;31mNameError\u001b[0m: name 'email_message' is not defined"
     ]
    }
   ],
   "source": [
    "if email_message.is_multipart():\n",
    "    for part in email_message.get_payload():\n",
    "        if part.get_content_type() == 'text/plain':\n",
    "            bytes = part.get_payload(decode=True)\n",
    "            encode = part.get_content_charset()\n",
    "            message = message + str(bytes, encode)\n",
    "else:\n",
    "    if email_message.get_content_type() == 'text/plain':\n",
    "        bytes = email_message.get_payload(decode=True)\n",
    "        encode = email_message.get_content_charset()\n",
    "        message = str(bytes, encode)\n",
    "print(message)"
   ]
  },
  {
   "cell_type": "code",
   "execution_count": 60,
   "metadata": {},
   "outputs": [
    {
     "output_type": "error",
     "ename": "SyntaxError",
     "evalue": "'continue' not properly in loop (<ipython-input-60-dabec65ac40d>, line 26)",
     "traceback": [
      "\u001b[1;36m  File \u001b[1;32m\"<ipython-input-60-dabec65ac40d>\"\u001b[1;36m, line \u001b[1;32m26\u001b[0m\n\u001b[1;31mSyntaxError\u001b[0m\u001b[1;31m:\u001b[0m 'continue' not properly in loop\n"
     ]
    }
   ],
   "source": [
    "for part in email_message.walk():\n",
    "    if part.get_content_maintype() == 'multipart':\n",
    "        continue\n",
    "    if part.get('Content-Disposition') is None:\n",
    "        continue\n",
    "    file_name = part.get_filename()\n",
    "\n",
    "    # file_name = \"\".join(\n",
    "    #     i for i in file_name if i not in \"\\/:*?<>|\")\n",
    "\n",
    "    # file_name = file_name.replace('UTF-8B', '')\n",
    "    # file_name = file_name.replace('utf-8B', '')\n",
    "    # print(file_name)\n",
    "\n",
    "    if bool(file_name):\n",
    "        file_path = os.path.join(\n",
    "            'D:/개인/Work/Download', file_name)\n",
    "        if not os.path.isfile(file_path):\n",
    "            fp = open(file_path, 'wb')\n",
    "            fp.write(part.get_payload(decode=True))\n",
    "            fp.close()\n",
    "else:\n",
    "    continue"
   ]
  },
  {
   "cell_type": "code",
   "execution_count": null,
   "metadata": {},
   "outputs": [],
   "source": []
  }
 ]
}