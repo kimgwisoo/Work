{
 "metadata": {
  "language_info": {
   "codemirror_mode": {
    "name": "ipython",
    "version": 3
   },
   "file_extension": ".py",
   "mimetype": "text/x-python",
   "name": "python",
   "nbconvert_exporter": "python",
   "pygments_lexer": "ipython3",
   "version": "3.7.6-final"
  },
  "orig_nbformat": 2,
  "kernelspec": {
   "name": "Python 3.7.6 64-bit ('base': conda)",
   "display_name": "Python 3.7.6 64-bit ('base': conda)",
   "metadata": {
    "interpreter": {
     "hash": "15bc54dd3cab612613c542227413ee8ecea986d8c5753dfe5a1a355e58ce028c"
    }
   }
  }
 },
 "nbformat": 4,
 "nbformat_minor": 2,
 "cells": [
  {
   "cell_type": "code",
   "execution_count": 40,
   "metadata": {},
   "outputs": [],
   "source": [
    "import os\n",
    "import email\n",
    "import imaplib\n",
    "import configparser\n",
    "import re"
   ]
  },
  {
   "cell_type": "code",
   "execution_count": 41,
   "metadata": {},
   "outputs": [],
   "source": [
    "def find_encoding_info(txt):\n",
    "    info = email.header.decode_header(txt)\n",
    "    s, encoding = info[0]\n",
    "    return s, encoding\n"
   ]
  },
  {
   "source": [
    "config = configparser.ConfigParser()\n",
    "config.read('D:\\개인\\Work\\config.ini')"
   ],
   "cell_type": "code",
   "metadata": {},
   "execution_count": 42,
   "outputs": [
    {
     "output_type": "execute_result",
     "data": {
      "text/plain": [
       "['D:\\\\개인\\\\Work\\\\config.ini']"
      ]
     },
     "metadata": {},
     "execution_count": 42
    }
   ]
  },
  {
   "cell_type": "code",
   "execution_count": 43,
   "metadata": {},
   "outputs": [],
   "source": [
    "imap_url = imaplib.IMAP4_SSL('imap.gmail.com')"
   ]
  },
  {
   "cell_type": "code",
   "execution_count": 44,
   "metadata": {},
   "outputs": [
    {
     "output_type": "execute_result",
     "data": {
      "text/plain": [
       "('OK', [b'kimgs243@gmail.com authenticated (Success)'])"
      ]
     },
     "metadata": {},
     "execution_count": 44
    }
   ],
   "source": [
    "imap_url.login(config['Gmail']['id'], config['Gmail']['pw'])"
   ]
  },
  {
   "cell_type": "code",
   "execution_count": 45,
   "metadata": {},
   "outputs": [
    {
     "output_type": "execute_result",
     "data": {
      "text/plain": [
       "('OK', [b'1'])"
      ]
     },
     "metadata": {},
     "execution_count": 45
    }
   ],
   "source": [
    "imap_url.select('INBOX')"
   ]
  },
  {
   "cell_type": "code",
   "execution_count": 46,
   "metadata": {},
   "outputs": [],
   "source": [
    "result, data = imap_url.search(None, 'ALL')"
   ]
  },
  {
   "cell_type": "code",
   "execution_count": 47,
   "metadata": {},
   "outputs": [
    {
     "output_type": "stream",
     "name": "stdout",
     "text": [
      "[b'1']\n"
     ]
    }
   ],
   "source": [
    "all_email = data[0].split()\n",
    "print(all_email)"
   ]
  },
  {
   "cell_type": "code",
   "execution_count": 50,
   "metadata": {},
   "outputs": [
    {
     "output_type": "stream",
     "name": "stdout",
     "text": [
      "From:  GwiSoo Kim <kgs243@outlook.com>\nSender:  None\nTo:  GwiSoo Kim <kimgs243@gmail.com>\nDate:  Tue, 20 Oct 2020 08:00:54 +0000\nSubject FW: Atachfile's\n[Message]\n"
     ]
    }
   ],
   "source": [
    "for mail in all_email:\n",
    "    result, data = imap_url.fetch(mail, '(RFC822)')\n",
    "    raw_email = data[0][1]\n",
    "    raw_email_string = raw_email.decode('UTF-8')\n",
    "    email_message = email.message_from_string(raw_email_string)\n",
    "\n",
    "    # 메일 정보\n",
    "    print('From: ', email_message['From'])\n",
    "    print('Sender: ', email_message['Sender'])\n",
    "    print('To: ', email_message['To'])\n",
    "    print('Date: ', email_message['Date'])\n",
    "\n",
    "    subject, encode = find_encoding_info(\n",
    "        email_message['Subject'])\n",
    "    print('Subject', subject)\n",
    "\n",
    "    message = ''\n",
    "\n",
    "    print('[Message]')"
   ]
  },
  {
   "cell_type": "code",
   "execution_count": 56,
   "metadata": {},
   "outputs": [
    {
     "output_type": "stream",
     "name": "stdout",
     "text": [
      "\n"
     ]
    }
   ],
   "source": [
    "if email_message.is_multipart():\n",
    "    for part in email_message.get_payload():\n",
    "        if part.get_content_type() == 'text/plain':\n",
    "            bytes = part.get_payload(decode=True)\n",
    "            encode = part.get_content_charset()\n",
    "            message = message + str(bytes, encode)\n",
    "else:\n",
    "    if email_message.get_content_type() == 'text/plain':\n",
    "        bytes = email_message.get_payload(decode=True)\n",
    "        encode = email_message.get_content_charset()\n",
    "        message = str(bytes, encode)\n",
    "print(message)"
   ]
  },
  {
   "cell_type": "code",
   "execution_count": 60,
   "metadata": {},
   "outputs": [
    {
     "output_type": "error",
     "ename": "SyntaxError",
     "evalue": "'continue' not properly in loop (<ipython-input-60-dabec65ac40d>, line 26)",
     "traceback": [
      "\u001b[1;36m  File \u001b[1;32m\"<ipython-input-60-dabec65ac40d>\"\u001b[1;36m, line \u001b[1;32m26\u001b[0m\n\u001b[1;31mSyntaxError\u001b[0m\u001b[1;31m:\u001b[0m 'continue' not properly in loop\n"
     ]
    }
   ],
   "source": [
    "for part in email_message.walk():\n",
    "    if part.get_content_maintype() == 'multipart':\n",
    "        continue\n",
    "    if part.get('Content-Disposition') is None:\n",
    "        continue\n",
    "    file_name = part.get_filename()\n",
    "\n",
    "    # file_name = \"\".join(\n",
    "    #     i for i in file_name if i not in \"\\/:*?<>|\")\n",
    "\n",
    "    # file_name = file_name.replace('UTF-8B', '')\n",
    "    # file_name = file_name.replace('utf-8B', '')\n",
    "    # print(file_name)\n",
    "\n",
    "    if bool(file_name):\n",
    "        file_path = os.path.join(\n",
    "            'D:/개인/Work/Download', file_name)\n",
    "        if not os.path.isfile(file_path):\n",
    "            fp = open(file_path, 'wb')\n",
    "            fp.write(part.get_payload(decode=True))\n",
    "            fp.close()\n",
    "else:\n",
    "    continue"
   ]
  },
  {
   "cell_type": "code",
   "execution_count": null,
   "metadata": {},
   "outputs": [],
   "source": []
  }
 ]
}