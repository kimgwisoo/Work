{
 "metadata": {
  "language_info": {
   "codemirror_mode": {
    "name": "ipython",
    "version": 3
   },
   "file_extension": ".py",
   "mimetype": "text/x-python",
   "name": "python",
   "nbconvert_exporter": "python",
   "pygments_lexer": "ipython3",
   "version": "3.7.6"
  },
  "orig_nbformat": 2,
  "kernelspec": {
   "name": "python376jvsc74a57bd015bc54dd3cab612613c542227413ee8ecea986d8c5753dfe5a1a355e58ce028c",
   "display_name": "Python 3.7.6 64-bit ('base': conda)"
  }
 },
 "nbformat": 4,
 "nbformat_minor": 2,
 "cells": [
  {
   "cell_type": "code",
   "execution_count": 5,
   "metadata": {},
   "outputs": [
    {
     "output_type": "stream",
     "name": "stdout",
     "text": [
      "[{'currency': 'KRW', 'balance': '0.00000851', 'locked': '0.0', 'avg_buy_price': '0', 'avg_buy_price_modified': True, 'unit_currency': 'KRW'}, {'currency': 'XRP', 'balance': '52.8836111', 'locked': '0.0', 'avg_buy_price': '1890', 'avg_buy_price_modified': False, 'unit_currency': 'KRW'}]\n"
     ]
    }
   ],
   "source": [
    "import os\n",
    "import jwt\n",
    "import uuid\n",
    "import hashlib\n",
    "from urllib.parse import urlencode\n",
    "\n",
    "import requests\n",
    "\n",
    "access_key = '1uxb6PmlG4RsGl3NQyPvEfTlXvbH2ePiP9fLvtSx'\n",
    "secret_key = 'ZMWWJl1O7qOR4UAmVffPsUJkdP7JnxEA4GjE7Nxu'\n",
    "\n",
    "payload = {\n",
    "    'access_key': access_key,\n",
    "    'nonce': str(uuid.uuid4()),\n",
    "}\n",
    "\n",
    "jwt_token = jwt.encode(payload, secret_key)\n",
    "authorize_token = 'Bearer {}'.format(jwt_token)\n",
    "headers = {\"Authorization\": authorize_token}\n",
    "\n",
    "res = requests.get('https://api.upbit.com/v1/accounts', headers=headers)\n",
    "\n",
    "print(res.json())"
   ]
  },
  {
   "cell_type": "code",
   "execution_count": null,
   "metadata": {},
   "outputs": [],
   "source": []
  },
  {
   "cell_type": "code",
   "execution_count": null,
   "metadata": {},
   "outputs": [],
   "source": [
    "    "
   ]
  }
 ]
}